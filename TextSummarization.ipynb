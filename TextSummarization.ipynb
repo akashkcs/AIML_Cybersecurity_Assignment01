{
 "cells": [
  {
   "cell_type": "code",
   "execution_count": 1,
   "id": "9cb7e57b-4f67-48af-bf56-f4007e4a3de5",
   "metadata": {},
   "outputs": [],
   "source": [
    "import math\n",
    "from nltk import sent_tokenize, word_tokenize, PorterStemmer\n",
    "from nltk.corpus import stopwords\n"
   ]
  },
  {
   "cell_type": "code",
   "execution_count": 2,
   "id": "70aeb634-2a27-4192-b690-559f76d4464e",
   "metadata": {},
   "outputs": [
    {
     "name": "stdin",
     "output_type": "stream",
     "text": [
      " Those Who Are Resilient Stay In The Game Longer “On the mountains of truth you can never climb in vain: either you will reach a point higher up today, or you will be training your powers so that you will be able to climb higher tomorrow.” — Friedrich Nietzsche Challenges and setbacks are not meant to defeat you, but promote you. However, I realise after many years of defeats, it can crush your spirit and it is easier to give up than risk further setbacks and disappointments. Have you experienced this before? To be honest, I don’t have the answers. I can’t tell you what the right course of action is; only you will know. However, it’s important not to be discouraged by failure when pursuing a goal or a dream, since failure itself means different things to different people. To a person with a Fixed Mindset failure is a blow to their self-esteem, yet to a person with a Growth Mindset, it’s an opportunity to improve and find new ways to overcome their obstacles. Same failure, yet different responses. Who is right and who is wrong? Neither. Each person has a different mindset that decides their outcome. Those who are resilient stay in the game longer and draw on their inner means to succeed.\n"
     ]
    },
    {
     "name": "stdout",
     "output_type": "stream",
     "text": [
      "\n",
      "1. Tokenized sentences\n",
      "\n",
      "['Those Who Are Resilient Stay In The Game Longer “On the mountains of truth you can never climb in vain: either you will reach a point higher up today, or you will be training your powers so that you will be able to climb higher tomorrow.”\\u200a—\\u200aFriedrich Nietzsche Challenges and setbacks are not meant to defeat you, but promote you.', 'However, I realise after many years of defeats, it can crush your spirit and it is easier to give up than risk further setbacks and disappointments.', 'Have you experienced this before?', 'To be honest, I don’t have the answers.', 'I can’t tell you what the right course of action is; only you will know.', 'However, it’s important not to be discouraged by failure when pursuing a goal or a dream, since failure itself means different things to different people.', 'To a person with a Fixed Mindset failure is a blow to their self-esteem, yet to a person with a Growth Mindset, it’s an opportunity to improve and find new ways to overcome their obstacles.', 'Same failure, yet different responses.', 'Who is right and who is wrong?', 'Neither.', 'Each person has a different mindset that decides their outcome.', 'Those who are resilient stay in the game longer and draw on their inner means to succeed.']\n"
     ]
    }
   ],
   "source": [
    "# 1 Sentence Tokenize\n",
    "\n",
    "'''\n",
    "  Function Name : _create_frequency_matrix\n",
    "  Parameters    : sentences\n",
    "  Description   : Calculate the frequence of words in each sentence\n",
    "'''\n",
    "def _create_frequency_matrix(sentences):\n",
    "    frequency_matrix = {}\n",
    "    stopWords = set(stopwords.words(\"english\"))\n",
    "    ps = PorterStemmer()\n",
    "\n",
    "    for sent in sentences:\n",
    "        freq_table = {}\n",
    "        words = word_tokenize(sent)\n",
    "        for word in words:\n",
    "            word = word.lower()\n",
    "            word = ps.stem(word)\n",
    "            if word in stopWords:\n",
    "                continue\n",
    "\n",
    "            if word in freq_table:\n",
    "                freq_table[word] += 1\n",
    "            else:\n",
    "                freq_table[word] = 1\n",
    "\n",
    "        frequency_matrix[sent[:15]] = freq_table\n",
    "\n",
    "    return frequency_matrix\n",
    "\n",
    "\n",
    "text = str(input())\n",
    "sentences = sent_tokenize(text)\n",
    "total_documents = len(sentences)\n",
    "print(\"\\n1. Tokenized sentences\\n\")\n",
    "print(sentences)"
   ]
  },
  {
   "cell_type": "code",
   "execution_count": 3,
   "id": "468a16dc-58a0-4b98-9cc5-7059611ba795",
   "metadata": {},
   "outputs": [
    {
     "name": "stdout",
     "output_type": "stream",
     "text": [
      "\n",
      "2. Frequence matrix of words in each sentence\n",
      "\n",
      "{'Those Who Are R': {'resili': 1, 'stay': 1, 'game': 1, 'longer': 1, '“': 1, 'mountain': 1, 'truth': 1, 'never': 1, 'climb': 2, 'vain': 1, ':': 1, 'either': 1, 'reach': 1, 'point': 1, 'higher': 2, 'today': 1, ',': 2, 'train': 1, 'power': 1, 'abl': 1, 'tomorrow.': 1, '”': 1, '—': 1, 'friedrich': 1, 'nietzsch': 1, 'challeng': 1, 'setback': 1, 'meant': 1, 'defeat': 1, 'promot': 1, '.': 1}, 'However, I real': {'howev': 1, ',': 2, 'realis': 1, 'mani': 1, 'year': 1, 'defeat': 1, 'crush': 1, 'spirit': 1, 'easier': 1, 'give': 1, 'risk': 1, 'setback': 1, 'disappoint': 1, '.': 1}, 'Have you experi': {'experienc': 1, 'thi': 1, 'befor': 1, '?': 1}, 'To be honest, I': {'honest': 1, ',': 1, '’': 1, 'answer': 1, '.': 1}, 'I can’t tell yo': {'’': 1, 'tell': 1, 'right': 1, 'cours': 1, 'action': 1, ';': 1, 'onli': 1, 'know': 1, '.': 1}, 'However, it’s i': {'howev': 1, ',': 2, '’': 1, 'import': 1, 'discourag': 1, 'failur': 2, 'pursu': 1, 'goal': 1, 'dream': 1, 'sinc': 1, 'mean': 1, 'differ': 2, 'thing': 1, 'peopl': 1, '.': 1}, 'To a person wit': {'person': 2, 'fix': 1, 'mindset': 2, 'failur': 1, 'blow': 1, 'self-esteem': 1, ',': 2, 'yet': 1, 'growth': 1, '’': 1, 'opportun': 1, 'improv': 1, 'find': 1, 'new': 1, 'way': 1, 'overcom': 1, 'obstacl': 1, '.': 1}, 'Same failure, y': {'failur': 1, ',': 1, 'yet': 1, 'differ': 1, 'respons': 1, '.': 1}, 'Who is right an': {'right': 1, 'wrong': 1, '?': 1}, 'Neither.': {'neither': 1, '.': 1}, 'Each person has': {'person': 1, 'ha': 1, 'differ': 1, 'mindset': 1, 'decid': 1, 'outcom': 1, '.': 1}, 'Those who are r': {'resili': 1, 'stay': 1, 'game': 1, 'longer': 1, 'draw': 1, 'inner': 1, 'mean': 1, 'succeed': 1, '.': 1}}\n"
     ]
    }
   ],
   "source": [
    "# 2 Create the Frequency matrix of the words in each sentence.\n",
    "'''\n",
    "   Function Name : _create_tf_matrix\n",
    "   Parameters    : freq_matrix\n",
    "   Description   : Calculate TermFrequency and generate a matrix\n",
    "   TF(t) = (Number of times term t appears in a document) / (Total number of terms in the document)\n",
    "'''\n",
    "def _create_tf_matrix(freq_matrix):\n",
    "    tf_matrix = {}\n",
    "\n",
    "    for sent, f_table in freq_matrix.items():\n",
    "        tf_table = {}\n",
    "\n",
    "        count_words_in_sentence = len(f_table)\n",
    "        for word, count in f_table.items():\n",
    "            tf_table[word] = count / count_words_in_sentence\n",
    "\n",
    "        tf_matrix[sent] = tf_table\n",
    "\n",
    "    return tf_matrix\n",
    "\n",
    "\n",
    "freq_matrix = _create_frequency_matrix(sentences)\n",
    "print(\"\\n2. Frequence matrix of words in each sentence\\n\")\n",
    "print(freq_matrix)"
   ]
  },
  {
   "cell_type": "code",
   "execution_count": 4,
   "id": "b767fd51-7b9e-455a-8eff-18a4ae3853a8",
   "metadata": {},
   "outputs": [
    {
     "name": "stdout",
     "output_type": "stream",
     "text": [
      "\n",
      "3. Term Frequency and Generate Matrix\n",
      "\n",
      "{'Those Who Are R': {'resili': 0.03225806451612903, 'stay': 0.03225806451612903, 'game': 0.03225806451612903, 'longer': 0.03225806451612903, '“': 0.03225806451612903, 'mountain': 0.03225806451612903, 'truth': 0.03225806451612903, 'never': 0.03225806451612903, 'climb': 0.06451612903225806, 'vain': 0.03225806451612903, ':': 0.03225806451612903, 'either': 0.03225806451612903, 'reach': 0.03225806451612903, 'point': 0.03225806451612903, 'higher': 0.06451612903225806, 'today': 0.03225806451612903, ',': 0.06451612903225806, 'train': 0.03225806451612903, 'power': 0.03225806451612903, 'abl': 0.03225806451612903, 'tomorrow.': 0.03225806451612903, '”': 0.03225806451612903, '—': 0.03225806451612903, 'friedrich': 0.03225806451612903, 'nietzsch': 0.03225806451612903, 'challeng': 0.03225806451612903, 'setback': 0.03225806451612903, 'meant': 0.03225806451612903, 'defeat': 0.03225806451612903, 'promot': 0.03225806451612903, '.': 0.03225806451612903}, 'However, I real': {'howev': 0.07142857142857142, ',': 0.14285714285714285, 'realis': 0.07142857142857142, 'mani': 0.07142857142857142, 'year': 0.07142857142857142, 'defeat': 0.07142857142857142, 'crush': 0.07142857142857142, 'spirit': 0.07142857142857142, 'easier': 0.07142857142857142, 'give': 0.07142857142857142, 'risk': 0.07142857142857142, 'setback': 0.07142857142857142, 'disappoint': 0.07142857142857142, '.': 0.07142857142857142}, 'Have you experi': {'experienc': 0.25, 'thi': 0.25, 'befor': 0.25, '?': 0.25}, 'To be honest, I': {'honest': 0.2, ',': 0.2, '’': 0.2, 'answer': 0.2, '.': 0.2}, 'I can’t tell yo': {'’': 0.1111111111111111, 'tell': 0.1111111111111111, 'right': 0.1111111111111111, 'cours': 0.1111111111111111, 'action': 0.1111111111111111, ';': 0.1111111111111111, 'onli': 0.1111111111111111, 'know': 0.1111111111111111, '.': 0.1111111111111111}, 'However, it’s i': {'howev': 0.06666666666666667, ',': 0.13333333333333333, '’': 0.06666666666666667, 'import': 0.06666666666666667, 'discourag': 0.06666666666666667, 'failur': 0.13333333333333333, 'pursu': 0.06666666666666667, 'goal': 0.06666666666666667, 'dream': 0.06666666666666667, 'sinc': 0.06666666666666667, 'mean': 0.06666666666666667, 'differ': 0.13333333333333333, 'thing': 0.06666666666666667, 'peopl': 0.06666666666666667, '.': 0.06666666666666667}, 'To a person wit': {'person': 0.1111111111111111, 'fix': 0.05555555555555555, 'mindset': 0.1111111111111111, 'failur': 0.05555555555555555, 'blow': 0.05555555555555555, 'self-esteem': 0.05555555555555555, ',': 0.1111111111111111, 'yet': 0.05555555555555555, 'growth': 0.05555555555555555, '’': 0.05555555555555555, 'opportun': 0.05555555555555555, 'improv': 0.05555555555555555, 'find': 0.05555555555555555, 'new': 0.05555555555555555, 'way': 0.05555555555555555, 'overcom': 0.05555555555555555, 'obstacl': 0.05555555555555555, '.': 0.05555555555555555}, 'Same failure, y': {'failur': 0.16666666666666666, ',': 0.16666666666666666, 'yet': 0.16666666666666666, 'differ': 0.16666666666666666, 'respons': 0.16666666666666666, '.': 0.16666666666666666}, 'Who is right an': {'right': 0.3333333333333333, 'wrong': 0.3333333333333333, '?': 0.3333333333333333}, 'Neither.': {'neither': 0.5, '.': 0.5}, 'Each person has': {'person': 0.14285714285714285, 'ha': 0.14285714285714285, 'differ': 0.14285714285714285, 'mindset': 0.14285714285714285, 'decid': 0.14285714285714285, 'outcom': 0.14285714285714285, '.': 0.14285714285714285}, 'Those who are r': {'resili': 0.1111111111111111, 'stay': 0.1111111111111111, 'game': 0.1111111111111111, 'longer': 0.1111111111111111, 'draw': 0.1111111111111111, 'inner': 0.1111111111111111, 'mean': 0.1111111111111111, 'succeed': 0.1111111111111111, '.': 0.1111111111111111}}\n"
     ]
    }
   ],
   "source": [
    "# 3 Calculate TermFrequency and generate a matrix\n",
    "'''\n",
    "   Function Name : _create_documents_per_words\n",
    "   Parameters    : freq_matrix\n",
    "   Description   : Creating a table for documents per words, Calculate how many sentences contain a word\n",
    "'''\n",
    "def _create_documents_per_words(freq_matrix):\n",
    "    word_per_doc_table = {}\n",
    "\n",
    "    for sent, f_table in freq_matrix.items():\n",
    "        for word, count in f_table.items():\n",
    "            if word in word_per_doc_table:\n",
    "                word_per_doc_table[word] += 1\n",
    "            else:\n",
    "                word_per_doc_table[word] = 1\n",
    "\n",
    "    return word_per_doc_table\n",
    "\n",
    "\n",
    "tf_matrix = _create_tf_matrix(freq_matrix)\n",
    "print(\"\\n3. Term Frequency and Generate Matrix\\n\")\n",
    "print(tf_matrix)\n"
   ]
  },
  {
   "cell_type": "code",
   "execution_count": 5,
   "id": "5db4a31f-69f6-44bc-abf0-93d471be43f2",
   "metadata": {},
   "outputs": [
    {
     "name": "stdout",
     "output_type": "stream",
     "text": [
      "\n",
      "4. Table for documents per words\n",
      "\n",
      "{'resili': 2, 'stay': 2, 'game': 2, 'longer': 2, '“': 1, 'mountain': 1, 'truth': 1, 'never': 1, 'climb': 1, 'vain': 1, ':': 1, 'either': 1, 'reach': 1, 'point': 1, 'higher': 1, 'today': 1, ',': 6, 'train': 1, 'power': 1, 'abl': 1, 'tomorrow.': 1, '”': 1, '—': 1, 'friedrich': 1, 'nietzsch': 1, 'challeng': 1, 'setback': 2, 'meant': 1, 'defeat': 2, 'promot': 1, '.': 10, 'howev': 2, 'realis': 1, 'mani': 1, 'year': 1, 'crush': 1, 'spirit': 1, 'easier': 1, 'give': 1, 'risk': 1, 'disappoint': 1, 'experienc': 1, 'thi': 1, 'befor': 1, '?': 2, 'honest': 1, '’': 4, 'answer': 1, 'tell': 1, 'right': 2, 'cours': 1, 'action': 1, ';': 1, 'onli': 1, 'know': 1, 'import': 1, 'discourag': 1, 'failur': 3, 'pursu': 1, 'goal': 1, 'dream': 1, 'sinc': 1, 'mean': 2, 'differ': 3, 'thing': 1, 'peopl': 1, 'person': 2, 'fix': 1, 'mindset': 2, 'blow': 1, 'self-esteem': 1, 'yet': 2, 'growth': 1, 'opportun': 1, 'improv': 1, 'find': 1, 'new': 1, 'way': 1, 'overcom': 1, 'obstacl': 1, 'respons': 1, 'wrong': 1, 'neither': 1, 'ha': 1, 'decid': 1, 'outcom': 1, 'draw': 1, 'inner': 1, 'succeed': 1}\n"
     ]
    }
   ],
   "source": [
    "# 4 creating table for documents per words\n",
    "'''\n",
    "    Function Name : _create_idf_matrix\n",
    "    Parameters    : freq_matrix, count_doc_per_words, total_documents\n",
    "    Description   : Calculate IDF and generate a matrix\n",
    "    IDF(t) = log_e(Total number of documents / Number of documents with term t in it)\n",
    "'''\n",
    "def _create_idf_matrix(freq_matrix, count_doc_per_words, total_documents):\n",
    "    idf_matrix = {}\n",
    "\n",
    "    for sent, f_table in freq_matrix.items():\n",
    "        idf_table = {}\n",
    "\n",
    "        for word in f_table.keys():\n",
    "            idf_table[word] = math.log10(total_documents / float(count_doc_per_words[word]))\n",
    "\n",
    "        idf_matrix[sent] = idf_table\n",
    "\n",
    "    return idf_matrix\n",
    "\n",
    "count_doc_per_words = _create_documents_per_words(freq_matrix)\n",
    "print(\"\\n4. Table for documents per words\\n\")\n",
    "print(count_doc_per_words)"
   ]
  },
  {
   "cell_type": "code",
   "execution_count": 6,
   "id": "dee0f3e8-da1b-46d4-9386-4f1a9631ac9c",
   "metadata": {},
   "outputs": [
    {
     "name": "stdout",
     "output_type": "stream",
     "text": [
      "\n",
      "5. IDF Matrix\n",
      "\n",
      "{'Those Who Are R': {'resili': 0.7781512503836436, 'stay': 0.7781512503836436, 'game': 0.7781512503836436, 'longer': 0.7781512503836436, '“': 1.0791812460476249, 'mountain': 1.0791812460476249, 'truth': 1.0791812460476249, 'never': 1.0791812460476249, 'climb': 1.0791812460476249, 'vain': 1.0791812460476249, ':': 1.0791812460476249, 'either': 1.0791812460476249, 'reach': 1.0791812460476249, 'point': 1.0791812460476249, 'higher': 1.0791812460476249, 'today': 1.0791812460476249, ',': 0.3010299956639812, 'train': 1.0791812460476249, 'power': 1.0791812460476249, 'abl': 1.0791812460476249, 'tomorrow.': 1.0791812460476249, '”': 1.0791812460476249, '—': 1.0791812460476249, 'friedrich': 1.0791812460476249, 'nietzsch': 1.0791812460476249, 'challeng': 1.0791812460476249, 'setback': 0.7781512503836436, 'meant': 1.0791812460476249, 'defeat': 0.7781512503836436, 'promot': 1.0791812460476249, '.': 0.07918124604762482}, 'However, I real': {'howev': 0.7781512503836436, ',': 0.3010299956639812, 'realis': 1.0791812460476249, 'mani': 1.0791812460476249, 'year': 1.0791812460476249, 'defeat': 0.7781512503836436, 'crush': 1.0791812460476249, 'spirit': 1.0791812460476249, 'easier': 1.0791812460476249, 'give': 1.0791812460476249, 'risk': 1.0791812460476249, 'setback': 0.7781512503836436, 'disappoint': 1.0791812460476249, '.': 0.07918124604762482}, 'Have you experi': {'experienc': 1.0791812460476249, 'thi': 1.0791812460476249, 'befor': 1.0791812460476249, '?': 0.7781512503836436}, 'To be honest, I': {'honest': 1.0791812460476249, ',': 0.3010299956639812, '’': 0.47712125471966244, 'answer': 1.0791812460476249, '.': 0.07918124604762482}, 'I can’t tell yo': {'’': 0.47712125471966244, 'tell': 1.0791812460476249, 'right': 0.7781512503836436, 'cours': 1.0791812460476249, 'action': 1.0791812460476249, ';': 1.0791812460476249, 'onli': 1.0791812460476249, 'know': 1.0791812460476249, '.': 0.07918124604762482}, 'However, it’s i': {'howev': 0.7781512503836436, ',': 0.3010299956639812, '’': 0.47712125471966244, 'import': 1.0791812460476249, 'discourag': 1.0791812460476249, 'failur': 0.6020599913279624, 'pursu': 1.0791812460476249, 'goal': 1.0791812460476249, 'dream': 1.0791812460476249, 'sinc': 1.0791812460476249, 'mean': 0.7781512503836436, 'differ': 0.6020599913279624, 'thing': 1.0791812460476249, 'peopl': 1.0791812460476249, '.': 0.07918124604762482}, 'To a person wit': {'person': 0.7781512503836436, 'fix': 1.0791812460476249, 'mindset': 0.7781512503836436, 'failur': 0.6020599913279624, 'blow': 1.0791812460476249, 'self-esteem': 1.0791812460476249, ',': 0.3010299956639812, 'yet': 0.7781512503836436, 'growth': 1.0791812460476249, '’': 0.47712125471966244, 'opportun': 1.0791812460476249, 'improv': 1.0791812460476249, 'find': 1.0791812460476249, 'new': 1.0791812460476249, 'way': 1.0791812460476249, 'overcom': 1.0791812460476249, 'obstacl': 1.0791812460476249, '.': 0.07918124604762482}, 'Same failure, y': {'failur': 0.6020599913279624, ',': 0.3010299956639812, 'yet': 0.7781512503836436, 'differ': 0.6020599913279624, 'respons': 1.0791812460476249, '.': 0.07918124604762482}, 'Who is right an': {'right': 0.7781512503836436, 'wrong': 1.0791812460476249, '?': 0.7781512503836436}, 'Neither.': {'neither': 1.0791812460476249, '.': 0.07918124604762482}, 'Each person has': {'person': 0.7781512503836436, 'ha': 1.0791812460476249, 'differ': 0.6020599913279624, 'mindset': 0.7781512503836436, 'decid': 1.0791812460476249, 'outcom': 1.0791812460476249, '.': 0.07918124604762482}, 'Those who are r': {'resili': 0.7781512503836436, 'stay': 0.7781512503836436, 'game': 0.7781512503836436, 'longer': 0.7781512503836436, 'draw': 1.0791812460476249, 'inner': 1.0791812460476249, 'mean': 0.7781512503836436, 'succeed': 1.0791812460476249, '.': 0.07918124604762482}}\n"
     ]
    }
   ],
   "source": [
    "# 5 Calculate IDF and generate a matrix\n",
    "'''\n",
    "    Function Name : _create_tf_idf_matrix\n",
    "    Parameters    : tf_matrix, idf_matrix\n",
    "    Description   : Calculate TF-IDF and generate a matrix, TF-IDF algorithm is made of 2 algorithms multiplied together\n",
    "'''\n",
    "def _create_tf_idf_matrix(tf_matrix, idf_matrix):\n",
    "    tf_idf_matrix = {}\n",
    "\n",
    "    for (sent1, f_table1), (sent2, f_table2) in zip(tf_matrix.items(), idf_matrix.items()):\n",
    "\n",
    "        tf_idf_table = {}\n",
    "\n",
    "        for (word1, value1), (word2, value2) in zip(f_table1.items(),\n",
    "                                                    f_table2.items()):  # here, keys are the same in both the table\n",
    "            tf_idf_table[word1] = float(value1 * value2)\n",
    "\n",
    "        tf_idf_matrix[sent1] = tf_idf_table\n",
    "\n",
    "    return tf_idf_matrix\n",
    "\n",
    "\n",
    "idf_matrix = _create_idf_matrix(freq_matrix, count_doc_per_words, total_documents)\n",
    "print(\"\\n5. IDF Matrix\\n\")\n",
    "print(idf_matrix)\n"
   ]
  },
  {
   "cell_type": "code",
   "execution_count": 7,
   "id": "d11c06d8-cc2b-4a96-aab1-fbf3fcb3e5c4",
   "metadata": {},
   "outputs": [
    {
     "name": "stdout",
     "output_type": "stream",
     "text": [
      "\n",
      "6. TF-IDF Matrix\n",
      "\n",
      "{'Those Who Are R': {'resili': 0.025101653238182052, 'stay': 0.025101653238182052, 'game': 0.025101653238182052, 'longer': 0.025101653238182052, '“': 0.034812298259600805, 'mountain': 0.034812298259600805, 'truth': 0.034812298259600805, 'never': 0.034812298259600805, 'climb': 0.06962459651920161, 'vain': 0.034812298259600805, ':': 0.034812298259600805, 'either': 0.034812298259600805, 'reach': 0.034812298259600805, 'point': 0.034812298259600805, 'higher': 0.06962459651920161, 'today': 0.034812298259600805, ',': 0.019421290042837495, 'train': 0.034812298259600805, 'power': 0.034812298259600805, 'abl': 0.034812298259600805, 'tomorrow.': 0.034812298259600805, '”': 0.034812298259600805, '—': 0.034812298259600805, 'friedrich': 0.034812298259600805, 'nietzsch': 0.034812298259600805, 'challeng': 0.034812298259600805, 'setback': 0.025101653238182052, 'meant': 0.034812298259600805, 'defeat': 0.025101653238182052, 'promot': 0.034812298259600805, '.': 0.002554233743471768}, 'However, I real': {'howev': 0.05558223217026026, ',': 0.043004285094854454, 'realis': 0.07708437471768749, 'mani': 0.07708437471768749, 'year': 0.07708437471768749, 'defeat': 0.05558223217026026, 'crush': 0.07708437471768749, 'spirit': 0.07708437471768749, 'easier': 0.07708437471768749, 'give': 0.07708437471768749, 'risk': 0.07708437471768749, 'setback': 0.05558223217026026, 'disappoint': 0.07708437471768749, '.': 0.005655803289116058}, 'Have you experi': {'experienc': 0.2697953115119062, 'thi': 0.2697953115119062, 'befor': 0.2697953115119062, '?': 0.1945378125959109}, 'To be honest, I': {'honest': 0.215836249209525, ',': 0.06020599913279624, '’': 0.09542425094393249, 'answer': 0.215836249209525, '.': 0.015836249209524964}, 'I can’t tell yo': {'’': 0.05301347274662915, 'tell': 0.11990902733862498, 'right': 0.08646125004262707, 'cours': 0.11990902733862498, 'action': 0.11990902733862498, ';': 0.11990902733862498, 'onli': 0.11990902733862498, 'know': 0.11990902733862498, '.': 0.008797916227513868}, 'However, it’s i': {'howev': 0.05187675002557624, ',': 0.04013733275519749, '’': 0.03180808364797749, 'import': 0.07194541640317499, 'discourag': 0.07194541640317499, 'failur': 0.08027466551039499, 'pursu': 0.07194541640317499, 'goal': 0.07194541640317499, 'dream': 0.07194541640317499, 'sinc': 0.07194541640317499, 'mean': 0.05187675002557624, 'differ': 0.08027466551039499, 'thing': 0.07194541640317499, 'peopl': 0.07194541640317499, '.': 0.0052787497365083215}, 'To a person wit': {'person': 0.08646125004262707, 'fix': 0.05995451366931249, 'mindset': 0.08646125004262707, 'failur': 0.03344777729599791, 'blow': 0.05995451366931249, 'self-esteem': 0.05995451366931249, ',': 0.03344777729599791, 'yet': 0.043230625021313536, 'growth': 0.05995451366931249, '’': 0.026506736373314577, 'opportun': 0.05995451366931249, 'improv': 0.05995451366931249, 'find': 0.05995451366931249, 'new': 0.05995451366931249, 'way': 0.05995451366931249, 'overcom': 0.05995451366931249, 'obstacl': 0.05995451366931249, '.': 0.004398958113756934}, 'Same failure, y': {'failur': 0.10034333188799373, ',': 0.050171665943996864, 'yet': 0.1296918750639406, 'differ': 0.10034333188799373, 'respons': 0.17986354100793747, '.': 0.013196874341270802}, 'Who is right an': {'right': 0.2593837501278812, 'wrong': 0.35972708201587494, '?': 0.2593837501278812}, 'Neither.': {'neither': 0.5395906230238124, '.': 0.03959062302381241}, 'Each person has': {'person': 0.11116446434052052, 'ha': 0.15416874943537498, 'differ': 0.08600857018970891, 'mindset': 0.11116446434052052, 'decid': 0.15416874943537498, 'outcom': 0.15416874943537498, '.': 0.011311606578232117}, 'Those who are r': {'resili': 0.08646125004262707, 'stay': 0.08646125004262707, 'game': 0.08646125004262707, 'longer': 0.08646125004262707, 'draw': 0.11990902733862498, 'inner': 0.11990902733862498, 'mean': 0.08646125004262707, 'succeed': 0.11990902733862498, '.': 0.008797916227513868}}\n"
     ]
    }
   ],
   "source": [
    "# 6 Calculate TF-IDF and generate a matrix\n",
    "'''\n",
    "    Function Name : _score_sentences\n",
    "    Parameters    : tf_idf_matrix\n",
    "    Description   : Score the sentences -> use Tf-IDF score of words in a sentence to give weight to the paragraph\n",
    "'''\n",
    "def _score_sentences(tf_idf_matrix) -> dict:\n",
    "    \"\"\"\n",
    "    score a sentence by its word's TF\n",
    "    Basic algorithm: adding the TF frequency of every non-stop word in a sentence divided by total no of words in a sentence.\n",
    "    :rtype: dict\n",
    "    \"\"\"\n",
    "\n",
    "    sentenceValue = {}\n",
    "\n",
    "    for sent, f_table in tf_idf_matrix.items():\n",
    "        total_score_per_sentence = 0\n",
    "\n",
    "        count_words_in_sentence = len(f_table)\n",
    "        for word, score in f_table.items():\n",
    "            total_score_per_sentence += score\n",
    "\n",
    "        sentenceValue[sent] = total_score_per_sentence / count_words_in_sentence\n",
    "\n",
    "    return sentenceValue\n",
    "\n",
    "\n",
    "tf_idf_matrix = _create_tf_idf_matrix(tf_matrix, idf_matrix)\n",
    "print(\"\\n6. TF-IDF Matrix\\n\")\n",
    "print(tf_idf_matrix)\n"
   ]
  },
  {
   "cell_type": "code",
   "execution_count": 8,
   "id": "5a733667-6a8b-4c3d-81a8-9cf6bafd37ec",
   "metadata": {},
   "outputs": [
    {
     "name": "stdout",
     "output_type": "stream",
     "text": [
      "\n",
      "7. Score Sentences\n",
      "\n",
      "{'Those Who Are R': 0.0336417064421104, 'However, I real': 0.06494043981099562, 'Have you experi': 0.2509809367829074, 'To be honest, I': 0.12062779954106073, 'I can’t tell yo': 0.09641408922761333, 'However, it’s i': 0.061139355229135044, 'To a person wit': 0.05408077914155957, 'Same failure, y': 0.09560177002218885, 'Who is right an': 0.29283152742387913, 'Neither.': 0.28959062302381244, 'Each person has': 0.11173647910787243, 'Those who are r': 0.0889812498285027}\n"
     ]
    }
   ],
   "source": [
    "# 7 Important Algorithm: score the sentences\n",
    "'''\n",
    "    Function Name : _find_average_score\n",
    "    Parameters    : sentenceValue\n",
    "    Description   : Find the average score from the sentence value dictionary rtype: int\n",
    "'''\n",
    "def _find_average_score(sentenceValue) -> int:\n",
    "\n",
    "    sumValues = 0\n",
    "    for entry in sentenceValue:\n",
    "        sumValues += sentenceValue[entry]\n",
    "\n",
    "    # Average value of a sentence from original summary_text\n",
    "    average = (sumValues / len(sentenceValue))\n",
    "\n",
    "    return average\n",
    "\n",
    "sentence_scores = _score_sentences(tf_idf_matrix)\n",
    "print(\"\\n7. Score Sentences\\n\")\n",
    "print(sentence_scores)"
   ]
  },
  {
   "cell_type": "code",
   "execution_count": 9,
   "id": "41839766-3001-4dc2-a64a-760eeceef323",
   "metadata": {},
   "outputs": [
    {
     "name": "stdout",
     "output_type": "stream",
     "text": [
      "\n",
      "8. Threshold\n",
      "\n",
      "0.13004722963180315\n"
     ]
    }
   ],
   "source": [
    "# 8 Find the threshold\n",
    "'''\n",
    "    Function Name : _generate_summary\n",
    "    Parameters    : sentences, sentenceValue, threshold\n",
    "    Description   : Select a sentence for a summarization if the sentence score is more than the average score\n",
    "'''\n",
    "def _generate_summary(sentences, sentenceValue, threshold):\n",
    "    sentence_count = 0\n",
    "    summary = ''\n",
    "\n",
    "    for sentence in sentences:\n",
    "        if sentence[:15] in sentenceValue and sentenceValue[sentence[:15]] >= (threshold):\n",
    "            summary += \" \" + sentence\n",
    "            sentence_count += 1\n",
    "\n",
    "    return summary\n",
    "\n",
    "\n",
    "threshold = _find_average_score(sentence_scores)\n",
    "print(\"\\n8. Threshold\\n\")\n",
    "print(threshold)\n"
   ]
  },
  {
   "cell_type": "code",
   "execution_count": 10,
   "id": "89ecb362-35d0-473c-8d8a-c6d3553ba5ab",
   "metadata": {},
   "outputs": [
    {
     "name": "stdout",
     "output_type": "stream",
     "text": [
      "\n",
      "Final Summary\n",
      "\n",
      " Have you experienced this before? Who is right and who is wrong? Neither.\n"
     ]
    }
   ],
   "source": [
    "# 9 Important Algorithm: Generate the summary\n",
    "summary = _generate_summary(sentences, sentence_scores, 1.3 * threshold)\n",
    "print(\"\\nFinal Summary\\n\")\n",
    "print(summary)"
   ]
  },
  {
   "cell_type": "code",
   "execution_count": 11,
   "id": "d39228b0-cd51-4067-9b4b-5298adc2fe6b",
   "metadata": {},
   "outputs": [
    {
     "name": "stdout",
     "output_type": "stream",
     "text": [
      "\n",
      "Final Summary\n",
      "\n",
      " Have you experienced this before? Who is right and who is wrong? Neither.\n"
     ]
    }
   ],
   "source": [
    "# 9 Important Algorithm: Generate the summary\n",
    "summary = _generate_summary(sentences, sentence_scores, 1.5 * threshold)\n",
    "print(\"\\nFinal Summary\\n\")\n",
    "print(summary)"
   ]
  },
  {
   "cell_type": "code",
   "execution_count": 12,
   "id": "2f7e3d79-4dbc-4c05-b142-04c126e2b83e",
   "metadata": {},
   "outputs": [
    {
     "name": "stdout",
     "output_type": "stream",
     "text": [
      "\n",
      "Final Summary\n",
      "\n",
      " Have you experienced this before? Who is right and who is wrong? Neither.\n"
     ]
    }
   ],
   "source": [
    "# 9 Important Algorithm: Generate the summary\n",
    "summary = _generate_summary(sentences, sentence_scores, 1.8 * threshold)\n",
    "print(\"\\nFinal Summary\\n\")\n",
    "print(summary)"
   ]
  },
  {
   "cell_type": "code",
   "execution_count": null,
   "id": "1e7b248a-fccf-4718-8a73-7331888b5204",
   "metadata": {},
   "outputs": [],
   "source": []
  }
 ],
 "metadata": {
  "kernelspec": {
   "display_name": "Python 3 (ipykernel)",
   "language": "python",
   "name": "python3"
  },
  "language_info": {
   "codemirror_mode": {
    "name": "ipython",
    "version": 3
   },
   "file_extension": ".py",
   "mimetype": "text/x-python",
   "name": "python",
   "nbconvert_exporter": "python",
   "pygments_lexer": "ipython3",
   "version": "3.11.0"
  }
 },
 "nbformat": 4,
 "nbformat_minor": 5
}
